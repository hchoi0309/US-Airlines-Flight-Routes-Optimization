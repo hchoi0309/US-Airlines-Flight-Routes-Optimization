{
 "cells": [
  {
   "cell_type": "code",
   "execution_count": 13,
   "metadata": {},
   "outputs": [],
   "source": [
    "import numpy as np\n",
    "import pandas as pd\n",
    "import matplotlib.pyplot as plt\n",
    "from sklearn.preprocessing import TargetEncoder, OneHotEncoder, StandardScaler\n",
    "from sklearn.compose import ColumnTransformer\n",
    "from sklearn.pipeline import Pipeline\n",
    "from sklearn.model_selection import RandomizedSearchCV\n",
    "import xgboost as xgb\n",
    "from amplpy import AMPL, ampl_notebook\n",
    "from joblib import load, dump\n",
    "\n",
    "pd.set_option(\"future.no_silent_downcasting\", True) # Prevent silent data type changes during operations for future compatibility"
   ]
  },
  {
   "cell_type": "markdown",
   "metadata": {},
   "source": [
    "Instantiate the AMPL object"
   ]
  },
  {
   "cell_type": "code",
   "execution_count": 12,
   "metadata": {},
   "outputs": [
    {
     "data": {
      "application/vnd.jupyter.widget-view+json": {
       "model_id": "918081c3c502464e9330a1c65d040986",
       "version_major": 2,
       "version_minor": 0
      },
      "text/plain": [
       "VBox(children=(Output(), HBox(children=(Text(value='', description='License UUID:', style=TextStyle(descriptio…"
      ]
     },
     "metadata": {},
     "output_type": "display_data"
    }
   ],
   "source": [
    "ampl = ampl_notebook(\n",
    "    modules=[\"highs\",\"coin\"], # solver to be used\n",
    "    license_uuid=\"default\" # license key\n",
    ")"
   ]
  },
  {
   "cell_type": "code",
   "execution_count": 7,
   "metadata": {},
   "outputs": [],
   "source": [
    "%%ampl_eval\n",
    "reset;"
   ]
  },
  {
   "cell_type": "code",
   "execution_count": 8,
   "metadata": {},
   "outputs": [],
   "source": [
    "%%ampl_eval\n",
    "# Sets\n",
    "set ROUTES;\n",
    "set AIRPLANE_TYPES;\n",
    "\n",
    "# Parameters\n",
    "param a {ROUTES};          # Base fare price coefficient\n",
    "param b {ROUTES};          # Price elasticity coefficient\n",
    "param r {ROUTES};          # Yearly effect coefficient\n",
    "param d {ROUTES};          # Quarter 1 effect coefficient\n",
    "param e {ROUTES};          # Quarter 2 effect coefficient\n",
    "param z {ROUTES};          # Quarter 3 effect coefficient\n",
    "param h {ROUTES};          # Quarter 4 effect coefficient\n",
    "param c {ROUTES};          # Cost per seat\n",
    "param N {ROUTES};          # Predicted daily passengers\n",
    "param C {AIRPLANE_TYPES};  # Capacity of each airplane type\n",
    "param R {AIRPLANE_TYPES};  # Total airplanes of each type\n",
    "param t;                   # Target market share (fraction)\n",
    "param year;                # Current year\n",
    "param active_quarter;      # Active quarter (1, 2, 3, or 4)\n",
    "\n",
    "# Variables\n",
    "var x {ROUTES} >= 0, integer;      # Daily number of seats sold\n",
    "var r_assign {ROUTES, AIRPLANE_TYPES} >= 0, integer;  # Number of airplanes assigned per route\n",
    "var q {1..4} binary;               # Quarter indicator variables\n",
    "\n",
    "# Objective\n",
    "maximize Profit:\n",
    "    sum {i in ROUTES} (\n",
    "        x[i] * (\n",
    "            a[i] * exp(-b[i] * x[i] + r[i] * year +\n",
    "                       d[i] * q[1] + e[i] * q[2] +\n",
    "                       z[i] * q[3] + h[i] * q[4]\n",
    "            ) - c[i]\n",
    "        )\n",
    "    );\n",
    "\n",
    "# Constraints\n",
    "s.t. MarketShare {i in ROUTES}:\n",
    "    x[i] <= t * N[i];\n",
    "\n",
    "s.t. MinCapacity {i in ROUTES}:\n",
    "    x[i] >= sum {k in AIRPLANE_TYPES} 0.9 * C[k] * r_assign[i, k];\n",
    "\n",
    "s.t. MaxCapacity {i in ROUTES}:\n",
    "    x[i] <= sum {k in AIRPLANE_TYPES} C[k] * r_assign[i, k];\n",
    "\n",
    "s.t. FleetLimit {k in AIRPLANE_TYPES}:\n",
    "    sum {i in ROUTES} r_assign[i, k] <= 3 * R[k];\n",
    "\n",
    "s.t. ActiveQuarter:\n",
    "    sum {qtr in 1..4} q[qtr] = 1;\n",
    "\n",
    "s.t. QuarterActive:\n",
    "    q[active_quarter] = 1;"
   ]
  },
  {
   "cell_type": "code",
   "execution_count": 9,
   "metadata": {},
   "outputs": [],
   "source": [
    "# Define data for the problem\n",
    "routes = ['AUS_IAD', 'LAX_ORD', 'JFK_LHR', 'SEA_SFO']\n",
    "airplane_types = ['type1', 'type2']\n",
    "\n",
    "# Parameter values\n",
    "a = {'AUS_IAD': 100, 'LAX_ORD': 120, 'JFK_LHR': 150, 'SEA_SFO': 90}\n",
    "b = {'AUS_IAD': 0.01, 'LAX_ORD': 0.02, 'JFK_LHR': 0.03, 'SEA_SFO': 0.015}\n",
    "r = {'AUS_IAD': 0.1, 'LAX_ORD': 0.15, 'JFK_LHR': 0.2, 'SEA_SFO': 0.12}\n",
    "d = {'AUS_IAD': 0.05, 'LAX_ORD': 0.06, 'JFK_LHR': 0.07, 'SEA_SFO': 0.04}\n",
    "e = {'AUS_IAD': 0.04, 'LAX_ORD': 0.05, 'JFK_LHR': 0.06, 'SEA_SFO': 0.03}\n",
    "z = {'AUS_IAD': 0.03, 'LAX_ORD': 0.04, 'JFK_LHR': 0.05, 'SEA_SFO': 0.025}\n",
    "h = {'AUS_IAD': 0.02, 'LAX_ORD': 0.03, 'JFK_LHR': 0.04, 'SEA_SFO': 0.02}\n",
    "c = {'AUS_IAD': 50, 'LAX_ORD': 60, 'JFK_LHR': 70, 'SEA_SFO': 45}\n",
    "N = {'AUS_IAD': 200, 'LAX_ORD': 250, 'JFK_LHR': 300, 'SEA_SFO': 180}\n",
    "C = {'type1': 150, 'type2': 200}\n",
    "R = {'type1': 5, 'type2': 3}\n",
    "\n",
    "# Load data into AMPL\n",
    "ampl.set['ROUTES'] = routes\n",
    "ampl.set['AIRPLANE_TYPES'] = airplane_types\n",
    "ampl.param['a'] = a\n",
    "ampl.param['b'] = b\n",
    "ampl.param['r'] = r\n",
    "ampl.param['d'] = d\n",
    "ampl.param['e'] = e\n",
    "ampl.param['z'] = z\n",
    "ampl.param['h'] = h\n",
    "ampl.param['c'] = c\n",
    "ampl.param['N'] = N\n",
    "ampl.param['C'] = C\n",
    "ampl.param['R'] = R\n",
    "ampl.param['t'] = 0.3\n",
    "ampl.param['year'] = 2024\n",
    "ampl.param['active_quarter'] = 3"
   ]
  },
  {
   "cell_type": "code",
   "execution_count": 10,
   "metadata": {},
   "outputs": [
    {
     "name": "stdout",
     "output_type": "stream",
     "text": [
      "Solution determined by presolve;\n",
      "objective Profit = 0.\n"
     ]
    }
   ],
   "source": [
    "%%ampl_eval\n",
    "option solver ipopt;\n",
    "solve;"
   ]
  },
  {
   "cell_type": "code",
   "execution_count": 11,
   "metadata": {},
   "outputs": [
    {
     "name": "stdout",
     "output_type": "stream",
     "text": [
      "Optimal Seat Sales (x):\n",
      "         x.val\n",
      "AUS_IAD      0\n",
      "JFK_LHR      0\n",
      "LAX_ORD      0\n",
      "SEA_SFO      0\n",
      "\n",
      "Airplane Assignments (r_assign):\n",
      "                r_assign.val\n",
      "index0  index1              \n",
      "AUS_IAD type1              0\n",
      "        type2              0\n",
      "JFK_LHR type1              0\n",
      "        type2              0\n",
      "LAX_ORD type1              0\n",
      "        type2              0\n",
      "SEA_SFO type1              0\n",
      "        type2              0\n",
      "\n",
      "Total Profit: 0.0\n"
     ]
    }
   ],
   "source": [
    "# Retrieve results\n",
    "x = ampl.getVariable(\"x\").getValues().toPandas()\n",
    "r_assign = ampl.getVariable(\"r_assign\").getValues().toPandas()\n",
    "profit = ampl.getObjective(\"Profit\").value()\n",
    "\n",
    "# Display results\n",
    "print(\"Optimal Seat Sales (x):\")\n",
    "print(x)\n",
    "\n",
    "print(\"\\nAirplane Assignments (r_assign):\")\n",
    "print(r_assign)\n",
    "\n",
    "print(f\"\\nTotal Profit: {profit}\")"
   ]
  }
 ],
 "metadata": {
  "kernelspec": {
   "display_name": "Python 3",
   "language": "python",
   "name": "python3"
  },
  "language_info": {
   "codemirror_mode": {
    "name": "ipython",
    "version": 3
   },
   "file_extension": ".py",
   "mimetype": "text/x-python",
   "name": "python",
   "nbconvert_exporter": "python",
   "pygments_lexer": "ipython3",
   "version": "3.10.10"
  }
 },
 "nbformat": 4,
 "nbformat_minor": 2
}
